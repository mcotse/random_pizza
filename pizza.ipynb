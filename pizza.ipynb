{
 "cells": [
  {
   "cell_type": "code",
   "execution_count": 190,
   "metadata": {
    "collapsed": true
   },
   "outputs": [],
   "source": [
    "import json\n",
    "import re\n",
    "import praw\n",
    "import pickle"
   ]
  },
  {
   "cell_type": "code",
   "execution_count": 101,
   "metadata": {
    "collapsed": true
   },
   "outputs": [],
   "source": [
    "with open('config.txt') as f:\n",
    "    client, secret = f.read().split()"
   ]
  },
  {
   "cell_type": "code",
   "execution_count": 102,
   "metadata": {
    "collapsed": true
   },
   "outputs": [],
   "source": [
    "reddit = praw.Reddit(client_id=client,\n",
    "                     client_secret=secret,\n",
    "                     user_agent='pizza sub mining bot')"
   ]
  },
  {
   "cell_type": "code",
   "execution_count": 66,
   "metadata": {
    "collapsed": false
   },
   "outputs": [],
   "source": [
    "def get_posts():\n",
    "    posts = []\n",
    "    for i in range(1,11):\n",
    "        with open('data/' + str(i) + '.json') as f:\n",
    "            data = json.loads(f.read())\n",
    "        posts.extend(data['data']['children'])\n",
    "    return [post['data'] for post in posts]"
   ]
  },
  {
   "cell_type": "code",
   "execution_count": 67,
   "metadata": {
    "collapsed": false
   },
   "outputs": [],
   "source": [
    "posts = get_posts()"
   ]
  },
  {
   "cell_type": "code",
   "execution_count": 94,
   "metadata": {
    "collapsed": true
   },
   "outputs": [],
   "source": [
    "def get_flairs_without_num(posts):\n",
    "    flair_count = {}\n",
    "    for post in posts:\n",
    "        flair = re.sub('\\(.*\\)','',post['author_flair_text']).strip()\n",
    "        flair = re.sub('\\w+:\\s\\w+','',flair).strip()\n",
    "        if flair not in flair_count:\n",
    "            flair_count[flair] = 1\n",
    "        else:\n",
    "            flair_count[flair] += 1\n",
    "    return flair_count"
   ]
  },
  {
   "cell_type": "code",
   "execution_count": 95,
   "metadata": {
    "collapsed": false
   },
   "outputs": [
    {
     "data": {
      "text/plain": [
       "{u'Big Fish': 47,\n",
       " u'Fish': 53,\n",
       " u'Giver': 24,\n",
       " u'Gold Giver': 1,\n",
       " u'Goldfish': 5,\n",
       " u'Hungry': 33,\n",
       " u'Pizza Tycoon': 4,\n",
       " u'Recipient': 406,\n",
       " u'Small Fish': 373,\n",
       " u'Thief': 2,\n",
       " u'Trader': 32}"
      ]
     },
     "execution_count": 95,
     "metadata": {},
     "output_type": "execute_result"
    }
   ],
   "source": [
    "get_flairs_without_num(posts)"
   ]
  },
  {
   "cell_type": "code",
   "execution_count": 97,
   "metadata": {
    "collapsed": true
   },
   "outputs": [],
   "source": [
    "def get_all_fulfiled(posts):\n",
    "    fulfiled_posts = []\n",
    "    for post in posts:\n",
    "        link_flair_text = post['link_flair_text']\n",
    "        if link_flair_text:\n",
    "            fulfiled_posts.append(link_flair_text)\n",
    "    return fulfiled_posts"
   ]
  },
  {
   "cell_type": "code",
   "execution_count": 98,
   "metadata": {
    "collapsed": true
   },
   "outputs": [
    {
     "data": {
      "text/plain": [
       "[u'Fulfilled',\n",
       " u'Fulfilled',\n",
       " u'Fulfilled',\n",
       " u'No Longer Needed',\n",
       " u'No Longer Needed',\n",
       " u'Closed',\n",
       " u'Fulfilled',\n",
       " u'Fulfilled',\n",
       " u'Fulfilled',\n",
       " u'Fulfilled',\n",
       " u'Fulfilled',\n",
       " u'No Longer Needed',\n",
       " u'No Longer Needed',\n",
       " u'No Longer Needed',\n",
       " u'No Longer Needed',\n",
       " u'No Longer Needed',\n",
       " u'No Longer Needed',\n",
       " u'No Longer Needed',\n",
       " u'No Longer Needed',\n",
       " u'No Longer Needed',\n",
       " u'No Longer Needed',\n",
       " u'No Longer Needed',\n",
       " u'No Longer Needed',\n",
       " u'No Longer Needed',\n",
       " u'No Longer Needed',\n",
       " u'No Longer Needed',\n",
       " u'No Longer Needed',\n",
       " u'Request',\n",
       " u'No Longer Needed',\n",
       " u'No Longer Needed',\n",
       " u'Thanks',\n",
       " u'Thanks',\n",
       " u'No Longer Needed',\n",
       " u'No Longer Needed']"
      ]
     },
     "execution_count": 98,
     "metadata": {},
     "output_type": "execute_result"
    }
   ],
   "source": [
    "get_all_fulfiled(posts)"
   ]
  },
  {
   "cell_type": "code",
   "execution_count": 199,
   "metadata": {
    "collapsed": false
   },
   "outputs": [],
   "source": [
    "def extract_comments(post):\n",
    "    comment_url = post['url']\n",
    "    submission = reddit.submission(url=comment_url)\n",
    "    post['comments'] = []\n",
    "    for comment in submission.comments:\n",
    "        if not comment.author:\n",
    "            continue\n",
    "        if comment.author.name != 'AutoModerator' or comment.author.name != 'AutoModerator':\n",
    "            post['comments'].append(comment)\n",
    "\n",
    "def fulfill_in_comments(comment):\n",
    "    keywords = set(['fulfilled','thank you','got pizza','appreciated','$fulfilled'])\n",
    "    if keywords & set(comment.body.lower().split()):\n",
    "        return True\n",
    "    return False\n",
    "\n",
    "def fulfill_in_link_body(text):\n",
    "    if 'fulfilled by' in set(text.lower().split()):\n",
    "        return True\n",
    "    #find text after edit\n",
    "    text = text.split('edit')\n",
    "    if len(text) > 1:\n",
    "        text = set(''.join(text[1:]).lower().split())\n",
    "        keywords = set(['fulfilled','thank you','got pizza','appreciated'])\n",
    "        if keywords & text:\n",
    "            return True\n",
    "    return False\n",
    "\n",
    "def is_op_recipient(post):\n",
    "    post['recipient'] = False\n",
    "    flair = post['author_flair_text'].lower()\n",
    "    if 'recipient' in flair or 'got' in flair:\n",
    "        post['recipient'] = True"
   ]
  },
  {
   "cell_type": "code",
   "execution_count": 200,
   "metadata": {
    "collapsed": false
   },
   "outputs": [],
   "source": [
    "def set_fulfillment_status(post):\n",
    "    post['fulfilled'] = fulfill_in_link_body(post['selftext'])\n",
    "    if not post['fulfilled']:\n",
    "        extract_comments(post)\n",
    "        for comment in post['comments']:\n",
    "            if comment.author.name == post['author']:\n",
    "                post['fulfilled'] = fulfill_in_comments(comment)\n",
    "        "
   ]
  },
  {
   "cell_type": "code",
   "execution_count": 201,
   "metadata": {
    "collapsed": false
   },
   "outputs": [],
   "source": [
    "def set_all_fulfillment_status(posts):\n",
    "    for post in posts:\n",
    "        post['fulfilled'] = False\n",
    "        set_fulfillment_status(post)\n",
    "\n",
    "def set_all_recipient(posts):\n",
    "    for post in posts:\n",
    "        is_op_recipient(post)"
   ]
  },
  {
   "cell_type": "code",
   "execution_count": 186,
   "metadata": {
    "collapsed": false
   },
   "outputs": [],
   "source": [
    "# set_fulfillment_status(posts[20])\n",
    "# posts[20]['fulfilled']\n",
    "# # fulfill_in_comments(posts[20])"
   ]
  },
  {
   "cell_type": "code",
   "execution_count": 187,
   "metadata": {
    "collapsed": false
   },
   "outputs": [],
   "source": [
    "# keywords = set(['fulfilled','thank you','got pizza','appreciated','$fulfilled'])\n",
    "# test = set([u'gift', u'/u/op_is_asshole', u'$25', u'$fulfilled', u'hut', u'by', u'card', u'pizza'])\n",
    "# if keywords & test:\n",
    "#     print 'true'"
   ]
  },
  {
   "cell_type": "code",
   "execution_count": 188,
   "metadata": {
    "collapsed": false
   },
   "outputs": [],
   "source": [
    "set_all_fulfillment_status(posts)"
   ]
  },
  {
   "cell_type": "code",
   "execution_count": 189,
   "metadata": {
    "collapsed": false
   },
   "outputs": [
    {
     "data": {
      "text/plain": [
       "10"
      ]
     },
     "execution_count": 189,
     "metadata": {},
     "output_type": "execute_result"
    }
   ],
   "source": [
    "len([post for post in posts if post['fulfilled']])"
   ]
  },
  {
   "cell_type": "code",
   "execution_count": 204,
   "metadata": {
    "collapsed": false
   },
   "outputs": [
    {
     "data": {
      "text/plain": [
       "273"
      ]
     },
     "execution_count": 204,
     "metadata": {},
     "output_type": "execute_result"
    }
   ],
   "source": [
    "set_all_recipient(posts)\n",
    "len([post for post in posts if post['recipient'] and len(post['comments'])])"
   ]
  },
  {
   "cell_type": "code",
   "execution_count": 196,
   "metadata": {
    "collapsed": false
   },
   "outputs": [
    {
     "data": {
      "text/plain": [
       "[{u'approved_by': None,\n",
       "  u'archived': False,\n",
       "  u'author': u'leod-jpg',\n",
       "  u'author_flair_css_class': u'recipient-1to2',\n",
       "  u'author_flair_text': u'Recipient (Got 1)',\n",
       "  u'banned_by': None,\n",
       "  u'brand_safe': True,\n",
       "  u'clicked': False,\n",
       "  'comments': [Comment(id='ddsiwj8'),\n",
       "   Comment(id='ddtjspu'),\n",
       "   Comment(id='ddspba4')],\n",
       "  u'contest_mode': False,\n",
       "  u'created': 1487219352.0,\n",
       "  u'created_utc': 1487190552.0,\n",
       "  u'distinguished': None,\n",
       "  u'domain': u'self.Random_Acts_Of_Pizza',\n",
       "  u'downs': 0,\n",
       "  u'edited': False,\n",
       "  'fulfilled': False,\n",
       "  u'gilded': 0,\n",
       "  u'hidden': False,\n",
       "  u'hide_score': False,\n",
       "  u'id': u'5ua1eg',\n",
       "  u'is_self': True,\n",
       "  u'likes': None,\n",
       "  u'link_flair_css_class': None,\n",
       "  u'link_flair_text': None,\n",
       "  u'locked': False,\n",
       "  u'media': None,\n",
       "  u'media_embed': {},\n",
       "  u'mod_reports': [],\n",
       "  u'name': u't3_5ua1eg',\n",
       "  u'num_comments': 7,\n",
       "  u'num_reports': None,\n",
       "  u'over_18': False,\n",
       "  u'permalink': u'/r/Random_Acts_Of_Pizza/comments/5ua1eg/request_pizza_for_a_homeless_guy_living_in_the/?ref=search_posts',\n",
       "  u'quarantine': False,\n",
       "  u'removal_reason': None,\n",
       "  u'report_reasons': None,\n",
       "  u'saved': False,\n",
       "  u'score': 8,\n",
       "  u'secure_media': None,\n",
       "  u'secure_media_embed': {},\n",
       "  u'selftext': u\"I'm homeless and living in the shelter in Portland. You can order the pizza to the shelter address so you know it's for real.\",\n",
       "  u'selftext_html': u'&lt;!-- SC_OFF --&gt;&lt;div class=\"md\"&gt;&lt;p&gt;I&amp;#39;m homeless and living in the shelter in Portland. You can order the pizza to the shelter address so you know it&amp;#39;s for real.&lt;/p&gt;\\n&lt;/div&gt;&lt;!-- SC_ON --&gt;',\n",
       "  u'spoiler': False,\n",
       "  u'stickied': False,\n",
       "  u'subreddit': u'Random_Acts_Of_Pizza',\n",
       "  u'subreddit_id': u't5_2s7wq',\n",
       "  u'subreddit_name_prefixed': u'r/Random_Acts_Of_Pizza',\n",
       "  u'subreddit_type': u'public',\n",
       "  u'suggested_sort': None,\n",
       "  u'thumbnail': u'self',\n",
       "  u'title': u'[Request] pizza for a homeless guy living in the shelter',\n",
       "  u'ups': 8,\n",
       "  u'url': u'https://www.reddit.com/r/Random_Acts_Of_Pizza/comments/5ua1eg/request_pizza_for_a_homeless_guy_living_in_the/',\n",
       "  u'user_reports': [],\n",
       "  u'visited': False},\n",
       " {u'approved_by': None,\n",
       "  u'archived': False,\n",
       "  u'author': u'Silverfaux',\n",
       "  u'author_flair_css_class': u'recipient-1to2',\n",
       "  u'author_flair_text': u'Recipient (Got 1)',\n",
       "  u'banned_by': None,\n",
       "  u'brand_safe': True,\n",
       "  u'clicked': False,\n",
       "  'comments': [Comment(id='ddodb0g'), Comment(id='ddo7skq')],\n",
       "  u'contest_mode': False,\n",
       "  u'created': 1486964645.0,\n",
       "  u'created_utc': 1486935845.0,\n",
       "  u'distinguished': None,\n",
       "  u'domain': u'self.Random_Acts_Of_Pizza',\n",
       "  u'downs': 0,\n",
       "  u'edited': False,\n",
       "  'fulfilled': False,\n",
       "  u'gilded': 0,\n",
       "  u'hidden': False,\n",
       "  u'hide_score': False,\n",
       "  u'id': u'5tohrj',\n",
       "  u'is_self': True,\n",
       "  u'likes': None,\n",
       "  u'link_flair_css_class': None,\n",
       "  u'link_flair_text': None,\n",
       "  u'locked': False,\n",
       "  u'media': None,\n",
       "  u'media_embed': {},\n",
       "  u'mod_reports': [],\n",
       "  u'name': u't3_5tohrj',\n",
       "  u'num_comments': 3,\n",
       "  u'num_reports': None,\n",
       "  u'over_18': False,\n",
       "  u'permalink': u'/r/Random_Acts_Of_Pizza/comments/5tohrj/request_unemployed_for_two_months_now_no_food_in/?ref=search_posts',\n",
       "  u'quarantine': False,\n",
       "  u'removal_reason': None,\n",
       "  u'report_reasons': None,\n",
       "  u'saved': False,\n",
       "  u'score': 7,\n",
       "  u'secure_media': None,\n",
       "  u'secure_media_embed': {},\n",
       "  u'selftext': u\"I've been out of work for two months now, and getting a bit tired of pb&amp;j sandwiches. A pizza sounds good for once.\\n\\nI have Domino's, Pizza Hut and Papa John's nearby. \",\n",
       "  u'selftext_html': u'&lt;!-- SC_OFF --&gt;&lt;div class=\"md\"&gt;&lt;p&gt;I&amp;#39;ve been out of work for two months now, and getting a bit tired of pb&amp;amp;j sandwiches. A pizza sounds good for once.&lt;/p&gt;\\n\\n&lt;p&gt;I have Domino&amp;#39;s, Pizza Hut and Papa John&amp;#39;s nearby. &lt;/p&gt;\\n&lt;/div&gt;&lt;!-- SC_ON --&gt;',\n",
       "  u'spoiler': False,\n",
       "  u'stickied': False,\n",
       "  u'subreddit': u'Random_Acts_Of_Pizza',\n",
       "  u'subreddit_id': u't5_2s7wq',\n",
       "  u'subreddit_name_prefixed': u'r/Random_Acts_Of_Pizza',\n",
       "  u'subreddit_type': u'public',\n",
       "  u'suggested_sort': None,\n",
       "  u'thumbnail': u'self',\n",
       "  u'title': u'[Request] Unemployed for two months now, no food in apartment.',\n",
       "  u'ups': 7,\n",
       "  u'url': u'https://www.reddit.com/r/Random_Acts_Of_Pizza/comments/5tohrj/request_unemployed_for_two_months_now_no_food_in/',\n",
       "  u'user_reports': [],\n",
       "  u'visited': False},\n",
       " {u'approved_by': None,\n",
       "  u'archived': False,\n",
       "  u'author': u'longarmofmylaw',\n",
       "  u'author_flair_css_class': u'recipient-1to2',\n",
       "  u'author_flair_text': u'Recipient (Got 1)',\n",
       "  u'banned_by': None,\n",
       "  u'brand_safe': True,\n",
       "  u'clicked': False,\n",
       "  'comments': [Comment(id='ddm3u2p'), Comment(id='ddm2eb7')],\n",
       "  u'contest_mode': False,\n",
       "  u'created': 1486847913.0,\n",
       "  u'created_utc': 1486819113.0,\n",
       "  u'distinguished': None,\n",
       "  u'domain': u'self.Random_Acts_Of_Pizza',\n",
       "  u'downs': 0,\n",
       "  u'edited': False,\n",
       "  'fulfilled': False,\n",
       "  u'gilded': 0,\n",
       "  u'hidden': False,\n",
       "  u'hide_score': False,\n",
       "  u'id': u'5techm',\n",
       "  u'is_self': True,\n",
       "  u'likes': None,\n",
       "  u'link_flair_css_class': None,\n",
       "  u'link_flair_text': None,\n",
       "  u'locked': False,\n",
       "  u'media': None,\n",
       "  u'media_embed': {},\n",
       "  u'mod_reports': [],\n",
       "  u'name': u't3_5techm',\n",
       "  u'num_comments': 4,\n",
       "  u'num_reports': None,\n",
       "  u'over_18': False,\n",
       "  u'permalink': u'/r/Random_Acts_Of_Pizza/comments/5techm/request_depressed_poor_and_cold_brit/?ref=search_posts',\n",
       "  u'quarantine': False,\n",
       "  u'removal_reason': None,\n",
       "  u'report_reasons': None,\n",
       "  u'saved': False,\n",
       "  u'score': 5,\n",
       "  u'secure_media': None,\n",
       "  u'secure_media_embed': {},\n",
       "  u'selftext': u\"I lost my job a week ago and benefits don't kick in for a few more weeks. I suffer from diagnosed depression and my pay as you go gas connection is cut off, meaning my house is freezing.\\n\\nYou have no idea what a pizza would mean to me right now, moreso just the idea of that kind of kindness rather than the food itself.\\n\\nI'm in England if that matters, and I would love to finally be able to pay this forward once I get a job.\",\n",
       "  u'selftext_html': u'&lt;!-- SC_OFF --&gt;&lt;div class=\"md\"&gt;&lt;p&gt;I lost my job a week ago and benefits don&amp;#39;t kick in for a few more weeks. I suffer from diagnosed depression and my pay as you go gas connection is cut off, meaning my house is freezing.&lt;/p&gt;\\n\\n&lt;p&gt;You have no idea what a pizza would mean to me right now, moreso just the idea of that kind of kindness rather than the food itself.&lt;/p&gt;\\n\\n&lt;p&gt;I&amp;#39;m in England if that matters, and I would love to finally be able to pay this forward once I get a job.&lt;/p&gt;\\n&lt;/div&gt;&lt;!-- SC_ON --&gt;',\n",
       "  u'spoiler': False,\n",
       "  u'stickied': False,\n",
       "  u'subreddit': u'Random_Acts_Of_Pizza',\n",
       "  u'subreddit_id': u't5_2s7wq',\n",
       "  u'subreddit_name_prefixed': u'r/Random_Acts_Of_Pizza',\n",
       "  u'subreddit_type': u'public',\n",
       "  u'suggested_sort': None,\n",
       "  u'thumbnail': u'self',\n",
       "  u'title': u'[Request] Depressed, poor and cold Brit',\n",
       "  u'ups': 5,\n",
       "  u'url': u'https://www.reddit.com/r/Random_Acts_Of_Pizza/comments/5techm/request_depressed_poor_and_cold_brit/',\n",
       "  u'user_reports': [],\n",
       "  u'visited': False},\n",
       " {u'approved_by': None,\n",
       "  u'archived': False,\n",
       "  u'author': u'KittyCatTroll',\n",
       "  u'author_flair_css_class': u'recipient-1to2',\n",
       "  u'author_flair_text': u'Recipient (Got 2)',\n",
       "  u'banned_by': None,\n",
       "  u'brand_safe': True,\n",
       "  u'clicked': False,\n",
       "  'comments': [Comment(id='ddlne3k'),\n",
       "   Comment(id='ddlnffv'),\n",
       "   Comment(id='ddlug92')],\n",
       "  u'contest_mode': False,\n",
       "  u'created': 1486808825.0,\n",
       "  u'created_utc': 1486780025.0,\n",
       "  u'distinguished': None,\n",
       "  u'domain': u'self.Random_Acts_Of_Pizza',\n",
       "  u'downs': 0,\n",
       "  u'edited': 1486780213.0,\n",
       "  'fulfilled': False,\n",
       "  u'gilded': 0,\n",
       "  u'hidden': False,\n",
       "  u'hide_score': False,\n",
       "  u'id': u'5tbnbh',\n",
       "  u'is_self': True,\n",
       "  u'likes': None,\n",
       "  u'link_flair_css_class': None,\n",
       "  u'link_flair_text': None,\n",
       "  u'locked': False,\n",
       "  u'media': None,\n",
       "  u'media_embed': {},\n",
       "  u'mod_reports': [],\n",
       "  u'name': u't3_5tbnbh',\n",
       "  u'num_comments': 9,\n",
       "  u'num_reports': None,\n",
       "  u'over_18': False,\n",
       "  u'permalink': u'/r/Random_Acts_Of_Pizza/comments/5tbnbh/request_coming_up_on_the_1_year_anniversary_of_me/?ref=search_posts',\n",
       "  u'quarantine': False,\n",
       "  u'removal_reason': None,\n",
       "  u'report_reasons': None,\n",
       "  u'saved': False,\n",
       "  u'score': 17,\n",
       "  u'secure_media': None,\n",
       "  u'secure_media_embed': {},\n",
       "  u'selftext': u'I\\'ve made so much progress with my mental health since I was hospitalized, sometimes it scares me. I\\'m still seeing my therapist once a week. I\\'m doing mindfulness exercises and using a mood tracker app. I\\'m even a facilitator of a peer-led mental illness support group!  I did have to go off my meds recently but that\\'s a long story of the worst psychiatry office in my area and my too-tight work schedule and depleted days off.\\n\\nAnyways, I\\'ve been pretty good lately, though the mood swings have been pretty drastic (expected, thanks to the lamictal withdrawals, ugh).  I\\'m really proud of how far I\\'ve come, just of the fact that I\\'m still *alive*.  It\\'s beautiful. Life is beautiful.\\n\\nI would buy myself pizza to \"celebrate\" my beating away the mental illness with a stick, but school bus drivers don\\'t get paid over winter break or for days off school, and the winter months are always quite barren financially. Plus the ex hasn\\'t had a job for 3 months so no child support. My van\\'s gas mileage is crap (like 18-20mpg) and I\\'ve been the one having to bring the kiddo to and from her dad\\'s every weekend (65-ish mile round trip, twice...) because he has no money, license, or car, but she still deserves to see him even if he is a deadbeat.\\n\\nAnyways, I\\'m rambling, I\\'m sorry, it\\'s been a 9 hour day at work and then chasing a sassy 4yo around for 4 hours afterwards, all on 5 hours of sleep.  I\\'m sleepy and loopy and likely not making sense. So pizza, yes, pizza would be fabulous. I will put a celebratory \"still fighting\" candle in it and take a picture :)\\n\\nEdit: I just noticed sidebar says include pizza places nearby. There\\'s Domino\\'s, Papa John\\'s, and Pizza Luc\\xe9 by me.',\n",
       "  u'selftext_html': u'&lt;!-- SC_OFF --&gt;&lt;div class=\"md\"&gt;&lt;p&gt;I&amp;#39;ve made so much progress with my mental health since I was hospitalized, sometimes it scares me. I&amp;#39;m still seeing my therapist once a week. I&amp;#39;m doing mindfulness exercises and using a mood tracker app. I&amp;#39;m even a facilitator of a peer-led mental illness support group!  I did have to go off my meds recently but that&amp;#39;s a long story of the worst psychiatry office in my area and my too-tight work schedule and depleted days off.&lt;/p&gt;\\n\\n&lt;p&gt;Anyways, I&amp;#39;ve been pretty good lately, though the mood swings have been pretty drastic (expected, thanks to the lamictal withdrawals, ugh).  I&amp;#39;m really proud of how far I&amp;#39;ve come, just of the fact that I&amp;#39;m still &lt;em&gt;alive&lt;/em&gt;.  It&amp;#39;s beautiful. Life is beautiful.&lt;/p&gt;\\n\\n&lt;p&gt;I would buy myself pizza to &amp;quot;celebrate&amp;quot; my beating away the mental illness with a stick, but school bus drivers don&amp;#39;t get paid over winter break or for days off school, and the winter months are always quite barren financially. Plus the ex hasn&amp;#39;t had a job for 3 months so no child support. My van&amp;#39;s gas mileage is crap (like 18-20mpg) and I&amp;#39;ve been the one having to bring the kiddo to and from her dad&amp;#39;s every weekend (65-ish mile round trip, twice...) because he has no money, license, or car, but she still deserves to see him even if he is a deadbeat.&lt;/p&gt;\\n\\n&lt;p&gt;Anyways, I&amp;#39;m rambling, I&amp;#39;m sorry, it&amp;#39;s been a 9 hour day at work and then chasing a sassy 4yo around for 4 hours afterwards, all on 5 hours of sleep.  I&amp;#39;m sleepy and loopy and likely not making sense. So pizza, yes, pizza would be fabulous. I will put a celebratory &amp;quot;still fighting&amp;quot; candle in it and take a picture :)&lt;/p&gt;\\n\\n&lt;p&gt;Edit: I just noticed sidebar says include pizza places nearby. There&amp;#39;s Domino&amp;#39;s, Papa John&amp;#39;s, and Pizza Luc\\xe9 by me.&lt;/p&gt;\\n&lt;/div&gt;&lt;!-- SC_ON --&gt;',\n",
       "  u'spoiler': False,\n",
       "  u'stickied': False,\n",
       "  u'subreddit': u'Random_Acts_Of_Pizza',\n",
       "  u'subreddit_id': u't5_2s7wq',\n",
       "  u'subreddit_name_prefixed': u'r/Random_Acts_Of_Pizza',\n",
       "  u'subreddit_type': u'public',\n",
       "  u'suggested_sort': None,\n",
       "  u'thumbnail': u'self',\n",
       "  u'title': u'[Request] Coming up on the 1 year anniversary of me going to the hospital instead of killing myself',\n",
       "  u'ups': 17,\n",
       "  u'url': u'https://www.reddit.com/r/Random_Acts_Of_Pizza/comments/5tbnbh/request_coming_up_on_the_1_year_anniversary_of_me/',\n",
       "  u'user_reports': [],\n",
       "  u'visited': False},\n",
       " {u'approved_by': None,\n",
       "  u'archived': False,\n",
       "  u'author': u'loversh',\n",
       "  u'author_flair_css_class': u'recipient-1to2',\n",
       "  u'author_flair_text': u'Recipient (Got 1)',\n",
       "  u'banned_by': None,\n",
       "  u'brand_safe': True,\n",
       "  u'clicked': False,\n",
       "  'comments': [Comment(id='ddll26t'),\n",
       "   Comment(id='ddlm701'),\n",
       "   Comment(id='ddlpxpy')],\n",
       "  u'contest_mode': False,\n",
       "  u'created': 1486804072.0,\n",
       "  u'created_utc': 1486775272.0,\n",
       "  u'distinguished': None,\n",
       "  u'domain': u'self.Random_Acts_Of_Pizza',\n",
       "  u'downs': 0,\n",
       "  u'edited': False,\n",
       "  'fulfilled': False,\n",
       "  u'gilded': 0,\n",
       "  u'hidden': False,\n",
       "  u'hide_score': False,\n",
       "  u'id': u'5tba03',\n",
       "  u'is_self': True,\n",
       "  u'likes': None,\n",
       "  u'link_flair_css_class': None,\n",
       "  u'link_flair_text': None,\n",
       "  u'locked': False,\n",
       "  u'media': None,\n",
       "  u'media_embed': {},\n",
       "  u'mod_reports': [],\n",
       "  u'name': u't3_5tba03',\n",
       "  u'num_comments': 11,\n",
       "  u'num_reports': None,\n",
       "  u'over_18': False,\n",
       "  u'permalink': u'/r/Random_Acts_Of_Pizza/comments/5tba03/request_just_got_in_a_motorcycle_accident_cant/?ref=search_posts',\n",
       "  u'post_hint': u'self',\n",
       "  u'preview': {u'enabled': False,\n",
       "   u'images': [{u'id': u'mjbceBp3IOJkwgG8fsx5GNz0PMQbRzPUVRDAFYCe8xA',\n",
       "     u'resolutions': [{u'height': 72,\n",
       "       u'url': u'https://i.redditmedia.com/CbHlerBF-C1Ey4g9BMK9Lrxni0B3x0i3-oGF8ty0SuY.jpg?fit=crop&amp;crop=faces%2Centropy&amp;arh=2&amp;w=108&amp;s=a0136961b7e94bae8acb8111f71eb09d',\n",
       "       u'width': 108},\n",
       "      {u'height': 144,\n",
       "       u'url': u'https://i.redditmedia.com/CbHlerBF-C1Ey4g9BMK9Lrxni0B3x0i3-oGF8ty0SuY.jpg?fit=crop&amp;crop=faces%2Centropy&amp;arh=2&amp;w=216&amp;s=95ca1eba03b7ad1eba0d1ca07bcda6dc',\n",
       "       u'width': 216},\n",
       "      {u'height': 213,\n",
       "       u'url': u'https://i.redditmedia.com/CbHlerBF-C1Ey4g9BMK9Lrxni0B3x0i3-oGF8ty0SuY.jpg?fit=crop&amp;crop=faces%2Centropy&amp;arh=2&amp;w=320&amp;s=a8ea878ba31c1f1e2dd9d022232aaa93',\n",
       "       u'width': 320},\n",
       "      {u'height': 426,\n",
       "       u'url': u'https://i.redditmedia.com/CbHlerBF-C1Ey4g9BMK9Lrxni0B3x0i3-oGF8ty0SuY.jpg?fit=crop&amp;crop=faces%2Centropy&amp;arh=2&amp;w=640&amp;s=caebb109f253e87c31d0ad5e6a7d8dcd',\n",
       "       u'width': 640},\n",
       "      {u'height': 640,\n",
       "       u'url': u'https://i.redditmedia.com/CbHlerBF-C1Ey4g9BMK9Lrxni0B3x0i3-oGF8ty0SuY.jpg?fit=crop&amp;crop=faces%2Centropy&amp;arh=2&amp;w=960&amp;s=9ed2f06e22257274fb3044d730a697dd',\n",
       "       u'width': 960},\n",
       "      {u'height': 720,\n",
       "       u'url': u'https://i.redditmedia.com/CbHlerBF-C1Ey4g9BMK9Lrxni0B3x0i3-oGF8ty0SuY.jpg?fit=crop&amp;crop=faces%2Centropy&amp;arh=2&amp;w=1080&amp;s=4b4f75f40ac08d5aa524dc06f5624761',\n",
       "       u'width': 1080}],\n",
       "     u'source': {u'height': 2432,\n",
       "      u'url': u'https://i.redditmedia.com/CbHlerBF-C1Ey4g9BMK9Lrxni0B3x0i3-oGF8ty0SuY.jpg?s=d6700fa6d3f8315d6e3b23b1d5f20791',\n",
       "      u'width': 3648},\n",
       "     u'variants': {}}]},\n",
       "  u'quarantine': False,\n",
       "  u'removal_reason': None,\n",
       "  u'report_reasons': None,\n",
       "  u'saved': False,\n",
       "  u'score': 18,\n",
       "  u'secure_media': None,\n",
       "  u'secure_media_embed': {},\n",
       "  u'selftext': u\"Yesterday morning on the home from work (line cook, 3 AM close) I wrecked my bike going around a corner transitioning surfaces. (nobody else was involved just my sorry ass) It fell on/dragged my right ankle, fracturing and dislocating it. Some people nearby heard me yelling for help and called EMS. They took me to the ER, popped the ankle back into place (ow), wrapped it up, and sent me out the door with crutches, pain meds, and a referral for an orthopedic surgeon. \\n\\nThe pain meds help, but I can't walk since my foot is basically just hanging off my leg and I suck with crutches. I can't drive, can't work, and my fridge is pretty empty since I usually eat at work or cook from scratch. *Thank god I signed up for ACA insurance in December*, but I'm still probably going to get boned pretty hard by medical bills here in the near future. I'm dazed and haven't eaten since I got out of the ER and all these ibuprofin and pain pills are starting to tear up my stomach. If someone made a big greasy pepperoni pizza appear at my door or sent me a gift card to get me through the weekend I would be incredibly grateful, and when I get back on my feet (literally) and back to work I will GLADLY pay it forward.\\n\\n[Proof (nothing graphic except for my dirty fridge)](http://imgur.com/a/DF7kZ)\\n\\nThank you for reading, and even if you can't send pizza please send good vibes/pray for my recovery. &lt;3\\n\\n\\n*Automod just reminded me to mention that Dominos and Papa Johns deliver to my location. \",\n",
       "  u'selftext_html': u'&lt;!-- SC_OFF --&gt;&lt;div class=\"md\"&gt;&lt;p&gt;Yesterday morning on the home from work (line cook, 3 AM close) I wrecked my bike going around a corner transitioning surfaces. (nobody else was involved just my sorry ass) It fell on/dragged my right ankle, fracturing and dislocating it. Some people nearby heard me yelling for help and called EMS. They took me to the ER, popped the ankle back into place (ow), wrapped it up, and sent me out the door with crutches, pain meds, and a referral for an orthopedic surgeon. &lt;/p&gt;\\n\\n&lt;p&gt;The pain meds help, but I can&amp;#39;t walk since my foot is basically just hanging off my leg and I suck with crutches. I can&amp;#39;t drive, can&amp;#39;t work, and my fridge is pretty empty since I usually eat at work or cook from scratch. &lt;em&gt;Thank god I signed up for ACA insurance in December&lt;/em&gt;, but I&amp;#39;m still probably going to get boned pretty hard by medical bills here in the near future. I&amp;#39;m dazed and haven&amp;#39;t eaten since I got out of the ER and all these ibuprofin and pain pills are starting to tear up my stomach. If someone made a big greasy pepperoni pizza appear at my door or sent me a gift card to get me through the weekend I would be incredibly grateful, and when I get back on my feet (literally) and back to work I will GLADLY pay it forward.&lt;/p&gt;\\n\\n&lt;p&gt;&lt;a href=\"http://imgur.com/a/DF7kZ\"&gt;Proof (nothing graphic except for my dirty fridge)&lt;/a&gt;&lt;/p&gt;\\n\\n&lt;p&gt;Thank you for reading, and even if you can&amp;#39;t send pizza please send good vibes/pray for my recovery. &amp;lt;3&lt;/p&gt;\\n\\n&lt;p&gt;*Automod just reminded me to mention that Dominos and Papa Johns deliver to my location. &lt;/p&gt;\\n&lt;/div&gt;&lt;!-- SC_ON --&gt;',\n",
       "  u'spoiler': False,\n",
       "  u'stickied': False,\n",
       "  u'subreddit': u'Random_Acts_Of_Pizza',\n",
       "  u'subreddit_id': u't5_2s7wq',\n",
       "  u'subreddit_name_prefixed': u'r/Random_Acts_Of_Pizza',\n",
       "  u'subreddit_type': u'public',\n",
       "  u'suggested_sort': None,\n",
       "  u'thumbnail': u'self',\n",
       "  u'title': u\"[Request] Just got in a motorcycle accident, can't walk.\",\n",
       "  u'ups': 18,\n",
       "  u'url': u'https://www.reddit.com/r/Random_Acts_Of_Pizza/comments/5tba03/request_just_got_in_a_motorcycle_accident_cant/',\n",
       "  u'user_reports': [],\n",
       "  u'visited': False}]"
      ]
     },
     "execution_count": 196,
     "metadata": {},
     "output_type": "execute_result"
    }
   ],
   "source": [
    "[post for post in posts if len(post['comments']) > 1][50:55]"
   ]
  },
  {
   "cell_type": "code",
   "execution_count": 191,
   "metadata": {
    "collapsed": true
   },
   "outputs": [],
   "source": [
    "with open('data/parsed_data.pkl','wb') as f:\n",
    "    pickle.dump(posts,f)"
   ]
  },
  {
   "cell_type": "code",
   "execution_count": null,
   "metadata": {
    "collapsed": true
   },
   "outputs": [],
   "source": []
  }
 ],
 "metadata": {
  "kernelspec": {
   "display_name": "Python 2",
   "language": "python",
   "name": "python2"
  },
  "language_info": {
   "codemirror_mode": {
    "name": "ipython",
    "version": 2
   },
   "file_extension": ".py",
   "mimetype": "text/x-python",
   "name": "python",
   "nbconvert_exporter": "python",
   "pygments_lexer": "ipython2",
   "version": "2.7.12"
  }
 },
 "nbformat": 4,
 "nbformat_minor": 2
}
